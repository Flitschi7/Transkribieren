{
 "cells": [
  {
   "cell_type": "code",
   "execution_count": 1,
   "metadata": {},
   "outputs": [
    {
     "name": "stderr",
     "output_type": "stream",
     "text": [
      "c:\\Users\\fzent\\Documents\\Software\\Transkribieren\\venv\\Lib\\site-packages\\tqdm\\auto.py:21: TqdmWarning: IProgress not found. Please update jupyter and ipywidgets. See https://ipywidgets.readthedocs.io/en/stable/user_install.html\n",
      "  from .autonotebook import tqdm as notebook_tqdm\n",
      "Fetching 5 files:   0%|          | 0/5 [00:00<?, ?it/s]"
     ]
    }
   ],
   "source": [
    "#DEUTSCH\n",
    "from huggingface_hub import snapshot_download\n",
    "import os\n",
    "from faster_whisper import WhisperModel\n",
    "\n",
    "# Define the folder containing the .mp3 files\n",
    "folder_path = os.getenv(\"FOLDER_PATH\")\n",
    "\n",
    "# Download the model snapshot\n",
    "hf_model_path = \"bofenghuang/whisper-large-v2-cv11-german-ct2\"\n",
    "downloaded_model_path = snapshot_download(repo_id=hf_model_path)\n",
    "\n",
    "# Initialize the Whisper model\n",
    "model = WhisperModel(downloaded_model_path, device=\"cuda\", compute_type=\"float16\")\n",
    "\n",
    "# List all files in the folder\n",
    "file_list = os.listdir(folder_path)\n",
    "\n",
    "# Filter .mp3 files\n",
    "mp3_files = [file for file in file_list if file.endswith('.mp3')]\n",
    "\n",
    "# Create an empty list to store transcriptions\n",
    "transcriptions = []\n",
    "\n",
    "# Loop through each .mp3 file\n",
    "for mp3_file in mp3_files:\n",
    "    # Construct the full path for the input .mp3 file\n",
    "    audio_file_path = os.path.join(folder_path, mp3_file)\n",
    "\n",
    "    # Append each input file path to the transcriptions list\n",
    "    transcriptions.append(audio_file_path)\n",
    "\n",
    "# Perform transcription on all files\n",
    "for audio_file in transcriptions:\n",
    "    segments, info = model.transcribe(audio_file, beam_size=1)\n",
    "\n",
    "    # Extract transcribed segments and info\n",
    "    language = info.language\n",
    "    language_probability = info.language_probability\n",
    "\n",
    "    # Process transcriptions and save as .txt files\n",
    "    transcription_text = \"\"\n",
    "    for segment in segments:\n",
    "        transcription_text += f\"[{segment.start:.2f}s -> {segment.end:.2f}s] {segment.text}\\n\"\n",
    "\n",
    "    # Construct the output file path for the .txt file\n",
    "    output_file_path = os.path.join(folder_path, f\"{os.path.splitext(os.path.basename(audio_file))[0]}.txt\")\n",
    "\n",
    "    # Save the transcribed text as a .txt file\n",
    "    with open(output_file_path, 'w', encoding='utf-8') as file:\n",
    "        file.write(transcription_text)\n",
    "\n",
    "    print(f\"Transcription saved to: {output_file_path}\")"
   ]
  }
 ],
 "metadata": {
  "kernelspec": {
   "display_name": "venv",
   "language": "python",
   "name": "python3"
  },
  "language_info": {
   "codemirror_mode": {
    "name": "ipython",
    "version": 3
   },
   "file_extension": ".py",
   "mimetype": "text/x-python",
   "name": "python",
   "nbconvert_exporter": "python",
   "pygments_lexer": "ipython3",
   "version": "3.12.4"
  }
 },
 "nbformat": 4,
 "nbformat_minor": 2
}
